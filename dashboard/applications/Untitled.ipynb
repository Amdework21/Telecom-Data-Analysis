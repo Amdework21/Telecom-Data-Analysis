{
 "cells": [
  {
   "cell_type": "code",
   "execution_count": 1,
   "id": "857c7d5c",
   "metadata": {},
   "outputs": [
    {
     "ename": "ModuleNotFoundError",
     "evalue": "No module named 'employee'",
     "output_type": "error",
     "traceback": [
      "\u001b[1;31m---------------------------------------------------------------------------\u001b[0m",
      "\u001b[1;31mModuleNotFoundError\u001b[0m                       Traceback (most recent call last)",
      "Input \u001b[1;32mIn [1]\u001b[0m, in \u001b[0;36m<cell line: 8>\u001b[1;34m()\u001b[0m\n\u001b[0;32m      5\u001b[0m \u001b[38;5;28;01mif\u001b[39;00m module_path \u001b[38;5;129;01mnot\u001b[39;00m \u001b[38;5;129;01min\u001b[39;00m sys\u001b[38;5;241m.\u001b[39mpath:\n\u001b[0;32m      6\u001b[0m     sys\u001b[38;5;241m.\u001b[39mpath\u001b[38;5;241m.\u001b[39mappend(module_path\u001b[38;5;241m+\u001b[39m\u001b[38;5;124m\"\u001b[39m\u001b[38;5;130;01m\\\\\u001b[39;00m\u001b[38;5;124mnn_webserver\u001b[39m\u001b[38;5;124m\"\u001b[39m)\n\u001b[1;32m----> 8\u001b[0m \u001b[38;5;28;01mfrom\u001b[39;00m \u001b[38;5;21;01memployee\u001b[39;00m \u001b[38;5;28;01mimport\u001b[39;00m motivation_to_work\n",
      "\u001b[1;31mModuleNotFoundError\u001b[0m: No module named 'employee'"
     ]
    }
   ],
   "source": [
    "import sys\n",
    "import os\n",
    "\n",
    "module_path = os.path.abspath(os.path.join('..'))\n",
    "if module_path not in sys.path:\n",
    "    sys.path.append(module_path+\"\\\\nn_webserver\")\n",
    "\n",
    "from employee import motivation_to_work"
   ]
  },
  {
   "cell_type": "code",
   "execution_count": 2,
   "id": "2952c6ba",
   "metadata": {},
   "outputs": [
    {
     "name": "stderr",
     "output_type": "stream",
     "text": [
      "2022-08-27 22:43:52.937 INFO    numexpr.utils: NumExpr defaulting to 4 threads.\n"
     ]
    }
   ],
   "source": [
    "%run model.py"
   ]
  },
  {
   "cell_type": "code",
   "execution_count": 8,
   "id": "d131b2ae",
   "metadata": {},
   "outputs": [],
   "source": [
    "%run experience_analytics.py"
   ]
  },
  {
   "cell_type": "code",
   "execution_count": 9,
   "id": "3acee01b",
   "metadata": {},
   "outputs": [],
   "source": [
    "%run satisfaction_analysis.py"
   ]
  },
  {
   "cell_type": "code",
   "execution_count": 10,
   "id": "b8b4cef4",
   "metadata": {},
   "outputs": [],
   "source": [
    "%run user_engagement.py"
   ]
  },
  {
   "cell_type": "code",
   "execution_count": 11,
   "id": "ddfe4839",
   "metadata": {},
   "outputs": [
    {
     "ename": "SyntaxError",
     "evalue": "invalid syntax (1715838087.py, line 1)",
     "output_type": "error",
     "traceback": [
      "\u001b[1;36m  Input \u001b[1;32mIn [11]\u001b[1;36m\u001b[0m\n\u001b[1;33m    streamlit run model.py\u001b[0m\n\u001b[1;37m              ^\u001b[0m\n\u001b[1;31mSyntaxError\u001b[0m\u001b[1;31m:\u001b[0m invalid syntax\n"
     ]
    }
   ],
   "source": [
    "streamlit run model.py"
   ]
  },
  {
   "cell_type": "code",
   "execution_count": 12,
   "id": "739bca42",
   "metadata": {},
   "outputs": [
    {
     "ename": "SyntaxError",
     "evalue": "invalid syntax (1453753012.py, line 1)",
     "output_type": "error",
     "traceback": [
      "\u001b[1;36m  Input \u001b[1;32mIn [12]\u001b[1;36m\u001b[0m\n\u001b[1;33m    python -m streamlit run multiapp.py\u001b[0m\n\u001b[1;37m              ^\u001b[0m\n\u001b[1;31mSyntaxError\u001b[0m\u001b[1;31m:\u001b[0m invalid syntax\n"
     ]
    }
   ],
   "source": [
    "python -m streamlit run multiapp.py"
   ]
  },
  {
   "cell_type": "code",
   "execution_count": 13,
   "id": "986835d8",
   "metadata": {},
   "outputs": [
    {
     "ename": "SyntaxError",
     "evalue": "invalid syntax (307070923.py, line 1)",
     "output_type": "error",
     "traceback": [
      "\u001b[1;36m  Input \u001b[1;32mIn [13]\u001b[1;36m\u001b[0m\n\u001b[1;33m    streamlit run dashboard/multiapp.py\u001b[0m\n\u001b[1;37m              ^\u001b[0m\n\u001b[1;31mSyntaxError\u001b[0m\u001b[1;31m:\u001b[0m invalid syntax\n"
     ]
    }
   ],
   "source": [
    "streamlit run dashboard/multiapp.py"
   ]
  },
  {
   "cell_type": "code",
   "execution_count": 16,
   "id": "f52adbf9",
   "metadata": {},
   "outputs": [
    {
     "ename": "SyntaxError",
     "evalue": "invalid syntax (307070923.py, line 1)",
     "output_type": "error",
     "traceback": [
      "\u001b[1;36m  Input \u001b[1;32mIn [16]\u001b[1;36m\u001b[0m\n\u001b[1;33m    streamlit run dashboard/multiapp.py\u001b[0m\n\u001b[1;37m              ^\u001b[0m\n\u001b[1;31mSyntaxError\u001b[0m\u001b[1;31m:\u001b[0m invalid syntax\n"
     ]
    }
   ],
   "source": [
    "streamlit run dashboard/multiapp.py"
   ]
  },
  {
   "cell_type": "code",
   "execution_count": 17,
   "id": "31aecd05",
   "metadata": {},
   "outputs": [],
   "source": [
    "import streamlit as st\n",
    "\n",
    "\n",
    "class MultiApp:\n",
    "\n",
    "    def __init__(self):\n",
    "        self.apps = []\n",
    "\n",
    "    def add_app(self, title, func):\n",
    "        self.apps.append({\n",
    "            \"title\": title,\n",
    "            \"function\": func\n",
    "        })\n",
    "\n",
    "    def run(self):\n",
    "        app = st.sidebar.selectbox(\n",
    "            'Navigation',\n",
    "            self.apps,\n",
    "            format_func=lambda app: app['title'])\n",
    "\n",
    "        app['function']()"
   ]
  },
  {
   "cell_type": "code",
   "execution_count": 14,
   "id": "d865b5fa",
   "metadata": {},
   "outputs": [
    {
     "ename": "NameError",
     "evalue": "name 'dashboard' is not defined",
     "output_type": "error",
     "traceback": [
      "\u001b[1;31m---------------------------------------------------------------------------\u001b[0m",
      "\u001b[1;31mNameError\u001b[0m                                 Traceback (most recent call last)",
      "Input \u001b[1;32mIn [14]\u001b[0m, in \u001b[0;36m<cell line: 1>\u001b[1;34m()\u001b[0m\n\u001b[1;32m----> 1\u001b[0m \u001b[43mdashboard\u001b[49m\u001b[38;5;241m/\u001b[39mmultiapp\u001b[38;5;241m.\u001b[39mpy\n",
      "\u001b[1;31mNameError\u001b[0m: name 'dashboard' is not defined"
     ]
    }
   ],
   "source": [
    "dashboard/multiapp.py"
   ]
  },
  {
   "cell_type": "code",
   "execution_count": 18,
   "id": "0cb25f49",
   "metadata": {},
   "outputs": [],
   "source": [
    "import streamlit as st\n",
    "import pandas as pd\n",
    "import os\n",
    "import sys\n",
    "\n",
    "\n",
    "def app():\n",
    "\n",
    "    st.title(\"User Experience Analysis\")\n",
    "\n",
    "    df_avgThr = pd.read_csv('data/top10avgThroughput.csv')\n",
    "    df_rtt = pd.read_csv('data/top10rtt.csv')\n",
    "    df_tcp = pd.read_csv('data/top10tcp.csv')\n",
    "    df_frqThr = pd.read_csv('data/most_freqAvgThr.csv')\n",
    "    df_frqrtt = pd.read_csv('data/most_freqRTT.csv')\n",
    "    df_frqtcp = pd.read_csv('data/most_freqTCP.csv')\n",
    "\n",
    "    st.header(\"Top 10 Users Experience analysis\")\n",
    "    st.subheader(\"Average Throughput\")\n",
    "    st.dataframe(df_avgThr)\n",
    "    st.bar_chart(df_avgThr['Average throughput'])\n",
    "\n",
    "    st.subheader(\"Round Trip Time\")\n",
    "    st.dataframe(df_rtt)\n",
    "    st.bar_chart(df_rtt['Average RTT'])\n",
    "\n",
    "    st.subheader(\"TCP\")\n",
    "    st.dataframe(df_tcp)\n",
    "    st.bar_chart(df_tcp['Average TCP'])\n",
    "\n",
    "    st.header(\"Most Frequenct Users\")\n",
    "    st.subheader('Frquent Average Throughput')\n",
    "    st.dataframe(df_frqThr)\n",
    "    st.bar_chart(df_frqThr['0'])\n",
    "\n",
    "    st.subheader(\"Frquent Round Trip Time\")\n",
    "    st.dataframe(df_frqrtt)\n",
    "    st.bar_chart(df_frqrtt['0'])\n",
    "\n",
    "    st.subheader(\"Frquent TCP\")\n",
    "    st.dataframe(df_frqtcp)\n",
    "    st.bar_chart(df_frqtcp['0'])\n",
    "\n",
    "    st.header(\"Cluster with 3 group classification\")\n",
    "    st.image('data/clusterExp.png')\n"
   ]
  },
  {
   "cell_type": "code",
   "execution_count": null,
   "id": "20c87529",
   "metadata": {},
   "outputs": [],
   "source": []
  },
  {
   "cell_type": "code",
   "execution_count": null,
   "id": "66c2f17f",
   "metadata": {},
   "outputs": [],
   "source": []
  },
  {
   "cell_type": "code",
   "execution_count": null,
   "id": "1da55775",
   "metadata": {},
   "outputs": [],
   "source": []
  },
  {
   "cell_type": "code",
   "execution_count": null,
   "id": "d9a30b25",
   "metadata": {},
   "outputs": [],
   "source": []
  },
  {
   "cell_type": "code",
   "execution_count": null,
   "id": "b56f35b4",
   "metadata": {},
   "outputs": [],
   "source": []
  },
  {
   "cell_type": "code",
   "execution_count": null,
   "id": "facc7e60",
   "metadata": {},
   "outputs": [],
   "source": []
  },
  {
   "cell_type": "code",
   "execution_count": null,
   "id": "c5e1b9b9",
   "metadata": {},
   "outputs": [],
   "source": []
  },
  {
   "cell_type": "code",
   "execution_count": null,
   "id": "fa0bae54",
   "metadata": {},
   "outputs": [],
   "source": []
  },
  {
   "cell_type": "code",
   "execution_count": null,
   "id": "9e51ae05",
   "metadata": {},
   "outputs": [],
   "source": []
  }
 ],
 "metadata": {
  "kernelspec": {
   "display_name": "Python 3 (ipykernel)",
   "language": "python",
   "name": "python3"
  },
  "language_info": {
   "codemirror_mode": {
    "name": "ipython",
    "version": 3
   },
   "file_extension": ".py",
   "mimetype": "text/x-python",
   "name": "python",
   "nbconvert_exporter": "python",
   "pygments_lexer": "ipython3",
   "version": "3.9.12"
  }
 },
 "nbformat": 4,
 "nbformat_minor": 5
}
